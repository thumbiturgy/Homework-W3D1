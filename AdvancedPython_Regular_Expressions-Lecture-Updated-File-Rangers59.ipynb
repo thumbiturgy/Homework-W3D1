{
 "cells": [
  {
   "cell_type": "markdown",
   "metadata": {},
   "source": [
    "# Regular Expressions"
   ]
  },
  {
   "cell_type": "markdown",
   "metadata": {},
   "source": [
    "# Tasks today:\n",
    "1) <b>Importing</b> <br>\n",
    "2) <b>Using Regular Expressions</b> <br>\n",
    " &nbsp;&nbsp;&nbsp;&nbsp; a) re.compile() <br>\n",
    " &nbsp;&nbsp;&nbsp;&nbsp; b) re.match() <br>\n",
    " &nbsp;&nbsp;&nbsp;&nbsp; c) re.findall() <br>\n",
    " &nbsp;&nbsp;&nbsp;&nbsp; d) re.search() <br>\n",
    "3) <b>Sets</b> <br>\n",
    " &nbsp;&nbsp;&nbsp;&nbsp; a) Integer Ranges <br>\n",
    " &nbsp;&nbsp;&nbsp;&nbsp; b) Character Ranges <br>\n",
    "4) <b>Counting Occurences</b> <br>\n",
    " &nbsp;&nbsp;&nbsp;&nbsp; a) {x} <br>\n",
    " &nbsp;&nbsp;&nbsp;&nbsp; b) {, x} <br>\n",
    " &nbsp;&nbsp;&nbsp;&nbsp; c) {?} <br>\n",
    " &nbsp;&nbsp;&nbsp;&nbsp; d) {*} <br>\n",
    " &nbsp;&nbsp;&nbsp;&nbsp; e) {+} <br>\n",
    "5) <b>In-Class Exercise #1</b> <br>\n",
    "6) <b>Escaping Characters</b> <br>\n",
    "7) <b>Grouping</b> <br>\n",
    "8) <b>In-Class Exercise #2</b> <br>\n",
    "9) <b>Opening a File</b> <br>\n",
    " &nbsp;&nbsp;&nbsp;&nbsp; a) open() <br>\n",
    " &nbsp;&nbsp;&nbsp;&nbsp; b) with open() <br>\n",
    " &nbsp;&nbsp;&nbsp;&nbsp; c) re.match() <br>\n",
    " &nbsp;&nbsp;&nbsp;&nbsp; d) re.search() <br>\n",
    " &nbsp;&nbsp;&nbsp;&nbsp; e) Store the String in a Variable <br>\n",
    "10) <b>Regex Project</b> <br>"
   ]
  },
  {
   "cell_type": "markdown",
   "metadata": {},
   "source": [
    "### Importing <br>\n",
    "<p>Regular Expressions are universal throughout most programming languages... They are generally imported through the module 're'.</p>"
   ]
  },
  {
   "cell_type": "code",
   "execution_count": 4,
   "metadata": {},
   "outputs": [],
   "source": [
    "# import re\n",
    "import re"
   ]
  },
  {
   "cell_type": "markdown",
   "metadata": {},
   "source": [
    "### Using Regular Expressions <br>\n",
    "<p>Regular expressions give us the ability to search for patterns within text, strings, files, etc. They serve several uses, such as; security measures, searching, filtering, pattern recognition, and more...</p>"
   ]
  },
  {
   "cell_type": "markdown",
   "metadata": {},
   "source": [
    "##### re.compile()"
   ]
  },
  {
   "cell_type": "code",
   "execution_count": 2,
   "metadata": {},
   "outputs": [],
   "source": [
    "# using compile, pre determines the string to be used in regular expression methods\n",
    "\n",
    "pattern = re.compile('abcd')"
   ]
  },
  {
   "cell_type": "markdown",
   "metadata": {},
   "source": [
    "##### re.match()"
   ]
  },
  {
   "cell_type": "code",
   "execution_count": 6,
   "metadata": {},
   "outputs": [
    {
     "name": "stdout",
     "output_type": "stream",
     "text": [
      "None\n"
     ]
    },
    {
     "data": {
      "text/plain": [
       "(0, 4)"
      ]
     },
     "execution_count": 6,
     "metadata": {},
     "output_type": "execute_result"
    }
   ],
   "source": [
    "# match only looks at beginning of string\n",
    "string = 'abcd1234'\n",
    "\n",
    "match = pattern.match(string)\n",
    "\n",
    "print(pattern.match('zabcd1234'))\n",
    "\n",
    "# Accessing the span of the match\n",
    "\n",
    "match.span()"
   ]
  },
  {
   "cell_type": "markdown",
   "metadata": {},
   "source": [
    "##### re.findall()"
   ]
  },
  {
   "cell_type": "code",
   "execution_count": 7,
   "metadata": {},
   "outputs": [
    {
     "name": "stdout",
     "output_type": "stream",
     "text": [
      "['abcd', 'abcd', 'abcd']\n"
     ]
    }
   ],
   "source": [
    "# find every match in the string, returns a list of all matches\n",
    "\n",
    "random_string = '123 abcd abcabcd abc 12abcd12'\n",
    "\n",
    "matches = pattern.findall(random_string)\n",
    "\n",
    "print(matches)"
   ]
  },
  {
   "cell_type": "markdown",
   "metadata": {},
   "source": [
    "##### re.search()"
   ]
  },
  {
   "cell_type": "code",
   "execution_count": 11,
   "metadata": {},
   "outputs": [
    {
     "name": "stdout",
     "output_type": "stream",
     "text": [
      "<re.Match object; span=(4, 8), match='abcd'>\n"
     ]
    },
    {
     "data": {
      "text/plain": [
       "'23'"
      ]
     },
     "execution_count": 11,
     "metadata": {},
     "output_type": "execute_result"
    }
   ],
   "source": [
    "# search entire text or string, returns the first match found\n",
    "\n",
    "match_object = pattern.search(random_string)\n",
    "\n",
    "print(match_object)\n",
    "\n",
    "match_object_span = match_object.span()\n",
    "\n",
    "type(match_object_span)\n",
    "\n",
    "random_string[match_object_span[0]:match_object_span[1]]\n",
    "\n",
    "'1234'[1:3]"
   ]
  },
  {
   "cell_type": "markdown",
   "metadata": {},
   "source": [
    "### Sets <br>\n",
    "<p>The following cells will allow you to use regular expressions to search for certain values within a range such as numbers 1 through 4.</p>"
   ]
  },
  {
   "cell_type": "markdown",
   "metadata": {},
   "source": [
    "##### [a-z] or [A-Z] - any lowercase/uppercase letters from a to z<br/>[^2] - anything that's not 2"
   ]
  },
  {
   "cell_type": "markdown",
   "metadata": {},
   "source": [
    "##### Integer Ranges"
   ]
  },
  {
   "cell_type": "code",
   "execution_count": 13,
   "metadata": {},
   "outputs": [
    {
     "name": "stdout",
     "output_type": "stream",
     "text": [
      "<re.Match object; span=(0, 3), match='190'>\n",
      "['170', '793', '070', '183']\n"
     ]
    }
   ],
   "source": [
    "# ranges are inclusive!\n",
    "pattern_int = re.compile('[0-7][7-9][0-3]')\n",
    "\n",
    "print(pattern_int.match('190678100'))\n",
    "\n",
    "num_matches = pattern_int.findall('094170793070111183')\n",
    "\n",
    "print(num_matches)"
   ]
  },
  {
   "cell_type": "markdown",
   "metadata": {},
   "source": [
    "##### Character Ranges"
   ]
  },
  {
   "cell_type": "code",
   "execution_count": 14,
   "metadata": {},
   "outputs": [
    {
     "name": "stdout",
     "output_type": "stream",
     "text": [
      "['Hel', 'The', 'And']\n"
     ]
    }
   ],
   "source": [
    "char_pattern = re.compile('[A-Z][a-z][a-z]')\n",
    "\n",
    "print(char_pattern.findall('Hello There Mr.Anderson'))"
   ]
  },
  {
   "cell_type": "markdown",
   "metadata": {},
   "source": [
    "### Counting Occurences"
   ]
  },
  {
   "cell_type": "markdown",
   "metadata": {},
   "source": [
    "##### {x} - something that occurs {num_of_times}"
   ]
  },
  {
   "cell_type": "code",
   "execution_count": 15,
   "metadata": {},
   "outputs": [
    {
     "data": {
      "text/plain": [
       "<re.Match object; span=(10, 15), match='AAn32'>"
      ]
     },
     "execution_count": 15,
     "metadata": {},
     "output_type": "execute_result"
    }
   ],
   "source": [
    "occur_pattern = re.compile('[A-Z]{2}[a-z][0-3]{2}')\n",
    "# re.compile('[A-Z][A-Z][a-z][0-3][0-3]')\n",
    "\n",
    "matrix_string = 'Hello Mr. AAn32derson'\n",
    "\n",
    "occur_pattern.search(matrix_string)"
   ]
  },
  {
   "cell_type": "markdown",
   "metadata": {},
   "source": [
    "##### {x, x} - something that occurs between x and x times"
   ]
  },
  {
   "cell_type": "code",
   "execution_count": 18,
   "metadata": {},
   "outputs": [
    {
     "data": {
      "text/plain": [
       "['m', 'm', 'mm', 'mmm', 'm', 'mmmmmm']"
      ]
     },
     "execution_count": 18,
     "metadata": {},
     "output_type": "execute_result"
    }
   ],
   "source": [
    "occur_pattern2 = re.compile('m{1,6}')\n",
    "\n",
    "mmmmatrix_string = 'This is an example of a regex trying to find find one m, towo mms 3 mmms multiple mmmmmms'\n",
    "\n",
    "occur_pattern2.findall(mmmmatrix_string)"
   ]
  },
  {
   "cell_type": "markdown",
   "metadata": {},
   "source": [
    "##### ? - something that occurs 0 or 1 time"
   ]
  },
  {
   "cell_type": "code",
   "execution_count": 22,
   "metadata": {},
   "outputs": [
    {
     "data": {
      "text/plain": [
       "['Mr?']"
      ]
     },
     "execution_count": 22,
     "metadata": {},
     "output_type": "execute_result"
    }
   ],
   "source": [
    "optional_pattern = re.compile('Mrs?')\n",
    "\n",
    "matrix_string = \"Hello there Mr.Anderson how is Mrs.Anderson and Ms.Anderson?\"\n",
    "\n",
    "optional_pattern.findall(matrix_string)"
   ]
  },
  {
   "cell_type": "markdown",
   "metadata": {},
   "source": [
    "##### * - something that occurs at least 0 times"
   ]
  },
  {
   "cell_type": "code",
   "execution_count": 23,
   "metadata": {},
   "outputs": [
    {
     "name": "stdout",
     "output_type": "stream",
     "text": [
      "['MMMs', 's', 'Ms', 's', 's', 'Ms', 's', 's', 's', 's', 's', 's', 's', 's', 's']\n"
     ]
    }
   ],
   "source": [
    "sticky_pattern = re.compile('M*s')\n",
    "\n",
    "found_ms = sticky_pattern.findall('MMMs name is Ms.Smith. This is Mssssssssss')\n",
    "\n",
    "print(found_ms)"
   ]
  },
  {
   "cell_type": "markdown",
   "metadata": {},
   "source": [
    "##### + - something that occurs at least once"
   ]
  },
  {
   "cell_type": "code",
   "execution_count": 25,
   "metadata": {},
   "outputs": [
    {
     "name": "stdout",
     "output_type": "stream",
     "text": [
      "['MMMs', 'Ms', 'Ms']\n"
     ]
    }
   ],
   "source": [
    "sticky_pattern = re.compile('M+s')\n",
    "\n",
    "found_ms = sticky_pattern.findall('MMMs name is Ms.Smith. This is Mssssssssss')\n",
    "\n",
    "print(found_ms)"
   ]
  },
  {
   "cell_type": "markdown",
   "metadata": {},
   "source": [
    "##### In-class exercise 1: \n",
    "\n",
    "Use a regular expression to find every number in the given string"
   ]
  },
  {
   "cell_type": "code",
   "execution_count": 30,
   "metadata": {},
   "outputs": [
    {
     "name": "stdout",
     "output_type": "stream",
     "text": [
      "['10909090', '1', '2']\n"
     ]
    }
   ],
   "source": [
    "my_string = \"This string has 10909090 numbers, but it is only 1 string. I hope you solve this 2day.\"\n",
    "\n",
    "# Output: ['10909090','1',2]\n",
    "\n",
    "find_nums = re.compile('[0-9]+')\n",
    "\n",
    "nums = find_nums.findall(my_string)\n",
    "print(nums)\n",
    "\n"
   ]
  },
  {
   "cell_type": "markdown",
   "metadata": {},
   "source": [
    "### Escaping Characters"
   ]
  },
  {
   "cell_type": "markdown",
   "metadata": {},
   "source": [
    "##### \\w - look for any Unicode character<br/>\\W - look for anything that isnt a Unicode character\n",
    "\n",
    "[History on Unicode](http://unicode.org/standard/WhatIsUnicode.html)\n",
    "\n",
    "[More on Unicode Characters](https://en.wikipedia.org/wiki/List_of_Unicode_characters)"
   ]
  },
  {
   "cell_type": "code",
   "execution_count": 31,
   "metadata": {},
   "outputs": [
    {
     "data": {
      "text/plain": [
       "['This', 'is', 'a', 'sentence', 'With', 'an', 'exclamation', 'mark', '5']"
      ]
     },
     "execution_count": 31,
     "metadata": {},
     "output_type": "execute_result"
    }
   ],
   "source": [
    "unicode_pattern = re.compile('\\w+')\n",
    "\n",
    "unicode_string = 'This is a sentence. With an, exclamation mark! 5'\n",
    "\n",
    "unicode_pattern.findall(unicode_string)\n",
    "\n"
   ]
  },
  {
   "cell_type": "code",
   "execution_count": 32,
   "metadata": {},
   "outputs": [
    {
     "data": {
      "text/plain": [
       "[' ', ' ', ' ', '. ', ' ', ', ', ' ', '! ']"
      ]
     },
     "execution_count": 32,
     "metadata": {},
     "output_type": "execute_result"
    }
   ],
   "source": [
    "non_unicode_pattern = re.compile('\\W+')\n",
    "\n",
    "non_unicode_pattern.findall(unicode_string)"
   ]
  },
  {
   "cell_type": "markdown",
   "metadata": {},
   "source": [
    "##### \\d - look for any digit 0-9<br/>\\D - look for anything that isnt a digit"
   ]
  },
  {
   "cell_type": "code",
   "execution_count": 37,
   "metadata": {},
   "outputs": [
    {
     "data": {
      "text/plain": [
       "['17th', '18th', '1st', '2nd']"
      ]
     },
     "execution_count": 37,
     "metadata": {},
     "output_type": "execute_result"
    }
   ],
   "source": [
    "day_pattern = re.compile('\\d{1,2}[d-t]{2}')\n",
    "\n",
    "day_string = \"Today is the 17th, tomorrow is the 18th. I can't wait for the 1st and 2nd in 13 days\"\n",
    "\n",
    "day_pattern.findall(day_string)"
   ]
  },
  {
   "cell_type": "code",
   "execution_count": 38,
   "metadata": {},
   "outputs": [
    {
     "data": {
      "text/plain": [
       "['Today is the ',\n",
       " 'th, tomorrow is the ',\n",
       " \"th. I can't wait for the \",\n",
       " 'st and ',\n",
       " 'nd in ',\n",
       " ' days']"
      ]
     },
     "execution_count": 38,
     "metadata": {},
     "output_type": "execute_result"
    }
   ],
   "source": [
    "re.compile('\\D+').findall(day_string)"
   ]
  },
  {
   "cell_type": "markdown",
   "metadata": {},
   "source": [
    "##### \\s - look for any white space<br/>\\S - look for anything that isnt whitespace"
   ]
  },
  {
   "cell_type": "code",
   "execution_count": 41,
   "metadata": {},
   "outputs": [
    {
     "data": {
      "text/plain": [
       "[' ', '  ', ' ', ' ', '  ', '       ']"
      ]
     },
     "execution_count": 41,
     "metadata": {},
     "output_type": "execute_result"
    }
   ],
   "source": [
    "no_space = re.compile('\\S+')\n",
    "\n",
    "spooky_string = \"Are you  afraid of the  dark?       \"\n",
    "\n",
    "no_space.findall(spooky_string)\n",
    "\n",
    "re.compile('\\s+').findall(spooky_string)"
   ]
  },
  {
   "cell_type": "markdown",
   "metadata": {},
   "source": [
    "##### \\b - look for boundaries or edges of a word<br/>\\B - look for anything that isnt a boundary"
   ]
  },
  {
   "cell_type": "code",
   "execution_count": 44,
   "metadata": {},
   "outputs": [
    {
     "name": "stdout",
     "output_type": "stream",
     "text": [
      "['CodingTemple']\n",
      "[]\n",
      "['CodingTemple']\n"
     ]
    },
    {
     "data": {
      "text/plain": [
       "[]"
      ]
     },
     "execution_count": 44,
     "metadata": {},
     "output_type": "execute_result"
    }
   ],
   "source": [
    "boundary_pattern = re.compile(r'\\bCodingTemple\\b')\n",
    "\n",
    "found_boundary = boundary_pattern.findall(' CodingTemple ')\n",
    "not_found = boundary_pattern.findall('TheCodingTemple')\n",
    "\n",
    "print(found_boundary)\n",
    "print(not_found)\n",
    "\n",
    "no_boundary = re.compile(r'\\BCodingTemple\\B')\n",
    "\n",
    "print(no_boundary.findall('TheCodingTempleRules'))\n",
    "no_boundary.findall(' CodingTemple.')"
   ]
  },
  {
   "cell_type": "markdown",
   "metadata": {},
   "source": [
    "### Grouping"
   ]
  },
  {
   "cell_type": "code",
   "execution_count": 49,
   "metadata": {},
   "outputs": [
    {
     "name": "stdout",
     "output_type": "stream",
     "text": [
      "Max Smith is a match\n",
      "aaron rodgers is not a match\n",
      "Sam Darnold is a match\n",
      "LeBron James is a match\n",
      "Michael Jordan is a match\n",
      "Patrick McCormick is a match\n"
     ]
    }
   ],
   "source": [
    "athletes = 'Max Smith, aaron rodgers, Sam Darnold, LeBron James, Michael Jordan, Patrick McCormick'\n",
    "\n",
    "name_pattern = re.compile('([A-Z][a-z][a-zA-Z]*) ([A-Z][a-z][A-Za-z]*)')\n",
    "\n",
    "#name_pattern.findall(athletes)\n",
    "\n",
    "for name in athletes.split(', '):\n",
    "    if name_pattern.match(name):\n",
    "        print(f'{name} is a match')\n",
    "    else:\n",
    "        print(f'{name} is not a match')"
   ]
  },
  {
   "cell_type": "markdown",
   "metadata": {},
   "source": [
    "##### In-class Exercise 2:\n",
    "\n",
    "Write a function using regular expressions to find the domain name in the given email addresses (and return None for the invalid email addresses)<br><b>HINT: Use '|' for either or</b>"
   ]
  },
  {
   "cell_type": "code",
   "execution_count": 66,
   "metadata": {
    "scrolled": true
   },
   "outputs": [
    {
     "name": "stdout",
     "output_type": "stream",
     "text": [
      "None\n",
      "pocohontas1776@gmail.com\n",
      "None\n",
      "yourfavoriteband@g6.org\n",
      "None\n",
      "\n"
     ]
    }
   ],
   "source": [
    "my_emails = [\"jordanw@codingtemple.orgcom\", \"pocohontas1776@gmail.com\", \"helloworld@aol..com\",\n",
    "             \"yourfavoriteband@g6.org\", \"@codingtemple.com\"]\n",
    "\n",
    "# You can also use the $ at the end of your compile expression -- this stops the search\n",
    "\n",
    "#.com OR .org => com|org\n",
    "\n",
    "#Expected output:\n",
    "#None\n",
    "#pocohontas1776@gmail.com\n",
    "#None\n",
    "#yourfavoriteband@g6.org\n",
    "#None\n",
    "\n",
    "\n",
    "def find_valid_emails(email_list):\n",
    "    validated_emails = ''\n",
    "    valid_emails = re.compile('[a-z0-9]+[\\@][a-z0-9]+[\\.](com|org)$')\n",
    "    for email in email_list:\n",
    "        if valid_emails.match(email):\n",
    "            validated_emails += f'{email}\\n'\n",
    "        else:\n",
    "            validated_emails += f'{valid_emails.match(email)}\\n'\n",
    "    return validated_emails\n",
    "\n",
    "print(find_valid_emails(my_emails))"
   ]
  },
  {
   "cell_type": "markdown",
   "metadata": {},
   "source": [
    "### Opening a File <br>\n",
    "<p>Python gives us a couple ways to import files, below are the two used most often.</p>"
   ]
  },
  {
   "cell_type": "markdown",
   "metadata": {},
   "source": [
    "##### open()"
   ]
  },
  {
   "cell_type": "code",
   "execution_count": 8,
   "metadata": {},
   "outputs": [
    {
     "name": "stdout",
     "output_type": "stream",
     "text": [
      "Hawkins, Derek\tderek@codingtemple.com\t(555) 555-5555\tTeacher, Coding Temple\t@derekhawkins\n",
      "Zhai, Mo\tmozhai@codingtemple.com\t(555) 555-5554\tTeacher, Coding Temple\n",
      "Johnson, Joe\tjoejohnson@codingtemple.com\t\tJohson, Joe\n",
      "Osterberg, Sven-Erik\tgovernor@norrbotten.co.se\t\tGovernor, Norrbotten\t@sverik\n",
      ", Tim\ttim@killerrabbit.com\t\tEnchanter, Killer Rabbit Cave\n",
      "Butz, Ryan\tryanb@codingtemple.com\t(555) 555-5543\tCEO, Coding Temple\t@ryanbutz\n",
      "Doctor, The\tdoctor+companion@tardis.co.uk\t\tTime Lord, Gallifrey\n",
      "Exampleson, Example\tme@example.com\t555-555-5552\tExample, Example Co.\t@example\n",
      "Pael, Ripal\tripalp@codingtemple.com\t(555) 555-5553\tTeacher, Coding Temple\t@ripalp\n",
      "Vader, Darth\tdarth-vader@empire.gov\t(555) 555-4444\tSith Lord, Galactic Empire\t@darthvader\n",
      "Fernandez de la Vega Sanz, Maria Teresa\tmtfvs@spain.gov\t\tFirst Deputy Prime Minister, Spanish Gov\n"
     ]
    }
   ],
   "source": [
    "open('./names.txt')\n",
    "\n",
    "data = f.read()\n",
    "\n",
    "print(data)\n"
   ]
  },
  {
   "cell_type": "markdown",
   "metadata": {},
   "source": [
    "##### with open()"
   ]
  },
  {
   "cell_type": "code",
   "execution_count": 11,
   "metadata": {},
   "outputs": [
    {
     "name": "stdout",
     "output_type": "stream",
     "text": [
      "Hawkins, Derek\tderek@codingtemple.com\t(555) 555-5555\tTeacher, Coding Temple\t@derekhawkins\n",
      "Zhai, Mo\tmozhai@codingtemple.com\t(555) 555-5554\tTeacher, Coding Temple\n",
      "Johnson, Joe\tjoejohnson@codingtemple.com\t\tJohson, Joe\n",
      "Osterberg, Sven-Erik\tgovernor@norrbotten.co.se\t\tGovernor, Norrbotten\t@sverik\n",
      ", Tim\ttim@killerrabbit.com\t\tEnchanter, Killer Rabbit Cave\n",
      "Butz, Ryan\tryanb@codingtemple.com\t(555) 555-5543\tCEO, Coding Temple\t@ryanbutz\n",
      "Doctor, The\tdoctor+companion@tardis.co.uk\t\tTime Lord, Gallifrey\n",
      "Exampleson, Example\tme@example.com\t555-555-5552\tExample, Example Co.\t@example\n",
      "Pael, Ripal\tripalp@codingtemple.com\t(555) 555-5553\tTeacher, Coding Temple\t@ripalp\n",
      "Vader, Darth\tdarth-vader@empire.gov\t(555) 555-4444\tSith Lord, Galactic Empire\t@darthvader\n",
      "Fernandez de la Vega Sanz, Maria Teresa\tmtfvs@spain.gov\t\tFirst Deputy Prime Minister, Spanish Gov\n",
      "H\n",
      "a\n",
      "w\n",
      "k\n",
      "i\n",
      "n\n",
      "s\n",
      ",\n",
      " \n",
      "D\n",
      "e\n",
      "r\n",
      "e\n",
      "k\n",
      "\t\n",
      "d\n",
      "e\n",
      "r\n",
      "e\n",
      "k\n",
      "@\n",
      "c\n",
      "o\n",
      "d\n",
      "i\n",
      "n\n",
      "g\n",
      "t\n",
      "e\n",
      "m\n",
      "p\n",
      "l\n",
      "e\n",
      ".\n",
      "c\n",
      "o\n",
      "m\n",
      "\t\n",
      "(\n",
      "5\n",
      "5\n",
      "5\n",
      ")\n",
      " \n",
      "5\n",
      "5\n",
      "5\n",
      "-\n",
      "5\n",
      "5\n",
      "5\n",
      "5\n",
      "\t\n",
      "T\n",
      "e\n",
      "a\n",
      "c\n",
      "h\n",
      "e\n",
      "r\n",
      ",\n",
      " \n",
      "C\n",
      "o\n",
      "d\n",
      "i\n",
      "n\n",
      "g\n",
      " \n",
      "T\n",
      "e\n",
      "m\n",
      "p\n",
      "l\n",
      "e\n",
      "\t\n",
      "@\n",
      "d\n",
      "e\n",
      "r\n",
      "e\n",
      "k\n",
      "h\n",
      "a\n",
      "w\n",
      "k\n",
      "i\n",
      "n\n",
      "s\n",
      "\n",
      "\n",
      "Z\n",
      "h\n",
      "a\n",
      "i\n",
      ",\n",
      " \n",
      "M\n",
      "o\n",
      "\t\n",
      "m\n",
      "o\n",
      "z\n",
      "h\n",
      "a\n",
      "i\n",
      "@\n",
      "c\n",
      "o\n",
      "d\n",
      "i\n",
      "n\n",
      "g\n",
      "t\n",
      "e\n",
      "m\n",
      "p\n",
      "l\n",
      "e\n",
      ".\n",
      "c\n",
      "o\n",
      "m\n",
      "\t\n",
      "(\n",
      "5\n",
      "5\n",
      "5\n",
      ")\n",
      " \n",
      "5\n",
      "5\n",
      "5\n",
      "-\n",
      "5\n",
      "5\n",
      "5\n",
      "4\n",
      "\t\n",
      "T\n",
      "e\n",
      "a\n",
      "c\n",
      "h\n",
      "e\n",
      "r\n",
      ",\n",
      " \n",
      "C\n",
      "o\n",
      "d\n",
      "i\n",
      "n\n",
      "g\n",
      " \n",
      "T\n",
      "e\n",
      "m\n",
      "p\n",
      "l\n",
      "e\n",
      "\n",
      "\n",
      "J\n",
      "o\n",
      "h\n",
      "n\n",
      "s\n",
      "o\n",
      "n\n",
      ",\n",
      " \n",
      "J\n",
      "o\n",
      "e\n",
      "\t\n",
      "j\n",
      "o\n",
      "e\n",
      "j\n",
      "o\n",
      "h\n",
      "n\n",
      "s\n",
      "o\n",
      "n\n",
      "@\n",
      "c\n",
      "o\n",
      "d\n",
      "i\n",
      "n\n",
      "g\n",
      "t\n",
      "e\n",
      "m\n",
      "p\n",
      "l\n",
      "e\n",
      ".\n",
      "c\n",
      "o\n",
      "m\n",
      "\t\n",
      "\t\n",
      "J\n",
      "o\n",
      "h\n",
      "s\n",
      "o\n",
      "n\n",
      ",\n",
      " \n",
      "J\n",
      "o\n",
      "e\n",
      "\n",
      "\n",
      "O\n",
      "s\n",
      "t\n",
      "e\n",
      "r\n",
      "b\n",
      "e\n",
      "r\n",
      "g\n",
      ",\n",
      " \n",
      "S\n",
      "v\n",
      "e\n",
      "n\n",
      "-\n",
      "E\n",
      "r\n",
      "i\n",
      "k\n",
      "\t\n",
      "g\n",
      "o\n",
      "v\n",
      "e\n",
      "r\n",
      "n\n",
      "o\n",
      "r\n",
      "@\n",
      "n\n",
      "o\n",
      "r\n",
      "r\n",
      "b\n",
      "o\n",
      "t\n",
      "t\n",
      "e\n",
      "n\n",
      ".\n",
      "c\n",
      "o\n",
      ".\n",
      "s\n",
      "e\n",
      "\t\n",
      "\t\n",
      "G\n",
      "o\n",
      "v\n",
      "e\n",
      "r\n",
      "n\n",
      "o\n",
      "r\n",
      ",\n",
      " \n",
      "N\n",
      "o\n",
      "r\n",
      "r\n",
      "b\n",
      "o\n",
      "t\n",
      "t\n",
      "e\n",
      "n\n",
      "\t\n",
      "@\n",
      "s\n",
      "v\n",
      "e\n",
      "r\n",
      "i\n",
      "k\n",
      "\n",
      "\n",
      ",\n",
      " \n",
      "T\n",
      "i\n",
      "m\n",
      "\t\n",
      "t\n",
      "i\n",
      "m\n",
      "@\n",
      "k\n",
      "i\n",
      "l\n",
      "l\n",
      "e\n",
      "r\n",
      "r\n",
      "a\n",
      "b\n",
      "b\n",
      "i\n",
      "t\n",
      ".\n",
      "c\n",
      "o\n",
      "m\n",
      "\t\n",
      "\t\n",
      "E\n",
      "n\n",
      "c\n",
      "h\n",
      "a\n",
      "n\n",
      "t\n",
      "e\n",
      "r\n",
      ",\n",
      " \n",
      "K\n",
      "i\n",
      "l\n",
      "l\n",
      "e\n",
      "r\n",
      " \n",
      "R\n",
      "a\n",
      "b\n",
      "b\n",
      "i\n",
      "t\n",
      " \n",
      "C\n",
      "a\n",
      "v\n",
      "e\n",
      "\n",
      "\n",
      "B\n",
      "u\n",
      "t\n",
      "z\n",
      ",\n",
      " \n",
      "R\n",
      "y\n",
      "a\n",
      "n\n",
      "\t\n",
      "r\n",
      "y\n",
      "a\n",
      "n\n",
      "b\n",
      "@\n",
      "c\n",
      "o\n",
      "d\n",
      "i\n",
      "n\n",
      "g\n",
      "t\n",
      "e\n",
      "m\n",
      "p\n",
      "l\n",
      "e\n",
      ".\n",
      "c\n",
      "o\n",
      "m\n",
      "\t\n",
      "(\n",
      "5\n",
      "5\n",
      "5\n",
      ")\n",
      " \n",
      "5\n",
      "5\n",
      "5\n",
      "-\n",
      "5\n",
      "5\n",
      "4\n",
      "3\n",
      "\t\n",
      "C\n",
      "E\n",
      "O\n",
      ",\n",
      " \n",
      "C\n",
      "o\n",
      "d\n",
      "i\n",
      "n\n",
      "g\n",
      " \n",
      "T\n",
      "e\n",
      "m\n",
      "p\n",
      "l\n",
      "e\n",
      "\t\n",
      "@\n",
      "r\n",
      "y\n",
      "a\n",
      "n\n",
      "b\n",
      "u\n",
      "t\n",
      "z\n",
      "\n",
      "\n",
      "D\n",
      "o\n",
      "c\n",
      "t\n",
      "o\n",
      "r\n",
      ",\n",
      " \n",
      "T\n",
      "h\n",
      "e\n",
      "\t\n",
      "d\n",
      "o\n",
      "c\n",
      "t\n",
      "o\n",
      "r\n",
      "+\n",
      "c\n",
      "o\n",
      "m\n",
      "p\n",
      "a\n",
      "n\n",
      "i\n",
      "o\n",
      "n\n",
      "@\n",
      "t\n",
      "a\n",
      "r\n",
      "d\n",
      "i\n",
      "s\n",
      ".\n",
      "c\n",
      "o\n",
      ".\n",
      "u\n",
      "k\n",
      "\t\n",
      "\t\n",
      "T\n",
      "i\n",
      "m\n",
      "e\n",
      " \n",
      "L\n",
      "o\n",
      "r\n",
      "d\n",
      ",\n",
      " \n",
      "G\n",
      "a\n",
      "l\n",
      "l\n",
      "i\n",
      "f\n",
      "r\n",
      "e\n",
      "y\n",
      "\n",
      "\n",
      "E\n",
      "x\n",
      "a\n",
      "m\n",
      "p\n",
      "l\n",
      "e\n",
      "s\n",
      "o\n",
      "n\n",
      ",\n",
      " \n",
      "E\n",
      "x\n",
      "a\n",
      "m\n",
      "p\n",
      "l\n",
      "e\n",
      "\t\n",
      "m\n",
      "e\n",
      "@\n",
      "e\n",
      "x\n",
      "a\n",
      "m\n",
      "p\n",
      "l\n",
      "e\n",
      ".\n",
      "c\n",
      "o\n",
      "m\n",
      "\t\n",
      "5\n",
      "5\n",
      "5\n",
      "-\n",
      "5\n",
      "5\n",
      "5\n",
      "-\n",
      "5\n",
      "5\n",
      "5\n",
      "2\n",
      "\t\n",
      "E\n",
      "x\n",
      "a\n",
      "m\n",
      "p\n",
      "l\n",
      "e\n",
      ",\n",
      " \n",
      "E\n",
      "x\n",
      "a\n",
      "m\n",
      "p\n",
      "l\n",
      "e\n",
      " \n",
      "C\n",
      "o\n",
      ".\n",
      "\t\n",
      "@\n",
      "e\n",
      "x\n",
      "a\n",
      "m\n",
      "p\n",
      "l\n",
      "e\n",
      "\n",
      "\n",
      "P\n",
      "a\n",
      "e\n",
      "l\n",
      ",\n",
      " \n",
      "R\n",
      "i\n",
      "p\n",
      "a\n",
      "l\n",
      "\t\n",
      "r\n",
      "i\n",
      "p\n",
      "a\n",
      "l\n",
      "p\n",
      "@\n",
      "c\n",
      "o\n",
      "d\n",
      "i\n",
      "n\n",
      "g\n",
      "t\n",
      "e\n",
      "m\n",
      "p\n",
      "l\n",
      "e\n",
      ".\n",
      "c\n",
      "o\n",
      "m\n",
      "\t\n",
      "(\n",
      "5\n",
      "5\n",
      "5\n",
      ")\n",
      " \n",
      "5\n",
      "5\n",
      "5\n",
      "-\n",
      "5\n",
      "5\n",
      "5\n",
      "3\n",
      "\t\n",
      "T\n",
      "e\n",
      "a\n",
      "c\n",
      "h\n",
      "e\n",
      "r\n",
      ",\n",
      " \n",
      "C\n",
      "o\n",
      "d\n",
      "i\n",
      "n\n",
      "g\n",
      " \n",
      "T\n",
      "e\n",
      "m\n",
      "p\n",
      "l\n",
      "e\n",
      "\t\n",
      "@\n",
      "r\n",
      "i\n",
      "p\n",
      "a\n",
      "l\n",
      "p\n",
      "\n",
      "\n",
      "V\n",
      "a\n",
      "d\n",
      "e\n",
      "r\n",
      ",\n",
      " \n",
      "D\n",
      "a\n",
      "r\n",
      "t\n",
      "h\n",
      "\t\n",
      "d\n",
      "a\n",
      "r\n",
      "t\n",
      "h\n",
      "-\n",
      "v\n",
      "a\n",
      "d\n",
      "e\n",
      "r\n",
      "@\n",
      "e\n",
      "m\n",
      "p\n",
      "i\n",
      "r\n",
      "e\n",
      ".\n",
      "g\n",
      "o\n",
      "v\n",
      "\t\n",
      "(\n",
      "5\n",
      "5\n",
      "5\n",
      ")\n",
      " \n",
      "5\n",
      "5\n",
      "5\n",
      "-\n",
      "4\n",
      "4\n",
      "4\n",
      "4\n",
      "\t\n",
      "S\n",
      "i\n",
      "t\n",
      "h\n",
      " \n",
      "L\n",
      "o\n",
      "r\n",
      "d\n",
      ",\n",
      " \n",
      "G\n",
      "a\n",
      "l\n",
      "a\n",
      "c\n",
      "t\n",
      "i\n",
      "c\n",
      " \n",
      "E\n",
      "m\n",
      "p\n",
      "i\n",
      "r\n",
      "e\n",
      "\t\n",
      "@\n",
      "d\n",
      "a\n",
      "r\n",
      "t\n",
      "h\n",
      "v\n",
      "a\n",
      "d\n",
      "e\n",
      "r\n",
      "\n",
      "\n",
      "F\n",
      "e\n",
      "r\n",
      "n\n",
      "a\n",
      "n\n",
      "d\n",
      "e\n",
      "z\n",
      " \n",
      "d\n",
      "e\n",
      " \n",
      "l\n",
      "a\n",
      " \n",
      "V\n",
      "e\n",
      "g\n",
      "a\n",
      " \n",
      "S\n",
      "a\n",
      "n\n",
      "z\n",
      ",\n",
      " \n",
      "M\n",
      "a\n",
      "r\n",
      "i\n",
      "a\n",
      " \n",
      "T\n",
      "e\n",
      "r\n",
      "e\n",
      "s\n",
      "a\n",
      "\t\n",
      "m\n",
      "t\n",
      "f\n",
      "v\n",
      "s\n",
      "@\n",
      "s\n",
      "p\n",
      "a\n",
      "i\n",
      "n\n",
      ".\n",
      "g\n",
      "o\n",
      "v\n",
      "\t\n",
      "\t\n",
      "F\n",
      "i\n",
      "r\n",
      "s\n",
      "t\n",
      " \n",
      "D\n",
      "e\n",
      "p\n",
      "u\n",
      "t\n",
      "y\n",
      " \n",
      "P\n",
      "r\n",
      "i\n",
      "m\n",
      "e\n",
      " \n",
      "M\n",
      "i\n",
      "n\n",
      "i\n",
      "s\n",
      "t\n",
      "e\n",
      "r\n",
      ",\n",
      " \n",
      "S\n",
      "p\n",
      "a\n",
      "n\n",
      "i\n",
      "s\n",
      "h\n",
      " \n",
      "G\n",
      "o\n",
      "v\n"
     ]
    }
   ],
   "source": [
    "with open('./names.txt') as f:\n",
    "    data_2 = f.read()\n",
    "    f.close()\n",
    "print(data_2)\n",
    "\n",
    "for line in data_2:\n",
    "    print(line)"
   ]
  },
  {
   "cell_type": "markdown",
   "metadata": {},
   "source": [
    "##### re.match()"
   ]
  },
  {
   "cell_type": "code",
   "execution_count": 12,
   "metadata": {},
   "outputs": [
    {
     "data": {
      "text/plain": [
       "<re.Match object; span=(0, 14), match='Hawkins, Derek'>"
      ]
     },
     "execution_count": 12,
     "metadata": {},
     "output_type": "execute_result"
    }
   ],
   "source": [
    "search_string = re.compile('Hawkins, Derek')\n",
    "\n",
    "search_string.match(data)"
   ]
  },
  {
   "cell_type": "code",
   "execution_count": 13,
   "metadata": {},
   "outputs": [
    {
     "data": {
      "text/plain": [
       "<re.Match object; span=(0, 14), match='Hawkins, Derek'>"
      ]
     },
     "execution_count": 13,
     "metadata": {},
     "output_type": "execute_result"
    }
   ],
   "source": [
    "#compile and match in single line\n",
    "re.match('Hawkins, Derek', data)"
   ]
  },
  {
   "cell_type": "markdown",
   "metadata": {},
   "source": [
    "##### re.search()"
   ]
  },
  {
   "cell_type": "code",
   "execution_count": 16,
   "metadata": {},
   "outputs": [
    {
     "data": {
      "text/plain": [
       "<re.Match object; span=(570, 581), match='Pael, Ripal'>"
      ]
     },
     "execution_count": 16,
     "metadata": {},
     "output_type": "execute_result"
    }
   ],
   "source": [
    "#compile and search in single line\n",
    "re.compile('Pael, Ripal').search(data)\n",
    "\n",
    "re.search('Pael, Ripal', data)"
   ]
  },
  {
   "cell_type": "markdown",
   "metadata": {},
   "source": [
    "##### Store the String to a Variable"
   ]
  },
  {
   "cell_type": "code",
   "execution_count": 29,
   "metadata": {},
   "outputs": [
    {
     "ename": "KeyboardInterrupt",
     "evalue": "Interrupted by user",
     "output_type": "error",
     "traceback": [
      "\u001b[1;31m---------------------------------------------------------------------------\u001b[0m",
      "\u001b[1;31mKeyboardInterrupt\u001b[0m                         Traceback (most recent call last)",
      "\u001b[1;32m~\\AppData\\Local\\Temp\\ipykernel_16508\\417068998.py\u001b[0m in \u001b[0;36m<module>\u001b[1;34m\u001b[0m\n\u001b[1;32m----> 1\u001b[1;33m \u001b[0muser_search\u001b[0m \u001b[1;33m=\u001b[0m \u001b[0minput\u001b[0m\u001b[1;33m(\u001b[0m\u001b[1;34m\"\\nWhat would you like to search for?\"\u001b[0m\u001b[1;33m)\u001b[0m\u001b[1;33m\u001b[0m\u001b[1;33m\u001b[0m\u001b[0m\n\u001b[0m\u001b[0;32m      2\u001b[0m \u001b[1;33m\u001b[0m\u001b[0m\n\u001b[0;32m      3\u001b[0m \u001b[0mmatch_list\u001b[0m \u001b[1;33m=\u001b[0m \u001b[0mre\u001b[0m\u001b[1;33m.\u001b[0m\u001b[0mfindall\u001b[0m\u001b[1;33m(\u001b[0m\u001b[0muser_search\u001b[0m\u001b[1;33m,\u001b[0m \u001b[0mdata\u001b[0m\u001b[1;33m)\u001b[0m\u001b[1;33m\u001b[0m\u001b[1;33m\u001b[0m\u001b[0m\n\u001b[0;32m      4\u001b[0m \u001b[1;32mif\u001b[0m \u001b[0mmatch_list\u001b[0m\u001b[1;33m:\u001b[0m\u001b[1;33m\u001b[0m\u001b[1;33m\u001b[0m\u001b[0m\n\u001b[0;32m      5\u001b[0m     \u001b[0mprint\u001b[0m\u001b[1;33m(\u001b[0m\u001b[1;34mf'\\n{user_search} was found'\u001b[0m\u001b[1;33m)\u001b[0m\u001b[1;33m\u001b[0m\u001b[1;33m\u001b[0m\u001b[0m\n",
      "\u001b[1;32m~\\anaconda3\\lib\\site-packages\\ipykernel\\kernelbase.py\u001b[0m in \u001b[0;36mraw_input\u001b[1;34m(self, prompt)\u001b[0m\n\u001b[0;32m   1175\u001b[0m                 \u001b[1;34m\"raw_input was called, but this frontend does not support input requests.\"\u001b[0m\u001b[1;33m\u001b[0m\u001b[1;33m\u001b[0m\u001b[0m\n\u001b[0;32m   1176\u001b[0m             )\n\u001b[1;32m-> 1177\u001b[1;33m         return self._input_request(\n\u001b[0m\u001b[0;32m   1178\u001b[0m             \u001b[0mstr\u001b[0m\u001b[1;33m(\u001b[0m\u001b[0mprompt\u001b[0m\u001b[1;33m)\u001b[0m\u001b[1;33m,\u001b[0m\u001b[1;33m\u001b[0m\u001b[1;33m\u001b[0m\u001b[0m\n\u001b[0;32m   1179\u001b[0m             \u001b[0mself\u001b[0m\u001b[1;33m.\u001b[0m\u001b[0m_parent_ident\u001b[0m\u001b[1;33m[\u001b[0m\u001b[1;34m\"shell\"\u001b[0m\u001b[1;33m]\u001b[0m\u001b[1;33m,\u001b[0m\u001b[1;33m\u001b[0m\u001b[1;33m\u001b[0m\u001b[0m\n",
      "\u001b[1;32m~\\anaconda3\\lib\\site-packages\\ipykernel\\kernelbase.py\u001b[0m in \u001b[0;36m_input_request\u001b[1;34m(self, prompt, ident, parent, password)\u001b[0m\n\u001b[0;32m   1217\u001b[0m             \u001b[1;32mexcept\u001b[0m \u001b[0mKeyboardInterrupt\u001b[0m\u001b[1;33m:\u001b[0m\u001b[1;33m\u001b[0m\u001b[1;33m\u001b[0m\u001b[0m\n\u001b[0;32m   1218\u001b[0m                 \u001b[1;31m# re-raise KeyboardInterrupt, to truncate traceback\u001b[0m\u001b[1;33m\u001b[0m\u001b[1;33m\u001b[0m\u001b[0m\n\u001b[1;32m-> 1219\u001b[1;33m                 \u001b[1;32mraise\u001b[0m \u001b[0mKeyboardInterrupt\u001b[0m\u001b[1;33m(\u001b[0m\u001b[1;34m\"Interrupted by user\"\u001b[0m\u001b[1;33m)\u001b[0m \u001b[1;32mfrom\u001b[0m \u001b[1;32mNone\u001b[0m\u001b[1;33m\u001b[0m\u001b[1;33m\u001b[0m\u001b[0m\n\u001b[0m\u001b[0;32m   1220\u001b[0m             \u001b[1;32mexcept\u001b[0m \u001b[0mException\u001b[0m\u001b[1;33m:\u001b[0m\u001b[1;33m\u001b[0m\u001b[1;33m\u001b[0m\u001b[0m\n\u001b[0;32m   1221\u001b[0m                 \u001b[0mself\u001b[0m\u001b[1;33m.\u001b[0m\u001b[0mlog\u001b[0m\u001b[1;33m.\u001b[0m\u001b[0mwarning\u001b[0m\u001b[1;33m(\u001b[0m\u001b[1;34m\"Invalid Message:\"\u001b[0m\u001b[1;33m,\u001b[0m \u001b[0mexc_info\u001b[0m\u001b[1;33m=\u001b[0m\u001b[1;32mTrue\u001b[0m\u001b[1;33m)\u001b[0m\u001b[1;33m\u001b[0m\u001b[1;33m\u001b[0m\u001b[0m\n",
      "\u001b[1;31mKeyboardInterrupt\u001b[0m: Interrupted by user"
     ]
    }
   ],
   "source": [
    "user_search = input(\"\\nWhat would you like to search for?\")\n",
    "\n",
    "match_list = re.findall(user_search, data)\n",
    "if match_list:\n",
    "    print(f'\\n{user_search} was found')\n",
    "else:\n",
    "    print('No matches')"
   ]
  },
  {
   "cell_type": "markdown",
   "metadata": {},
   "source": [
    "### In-Class Exercise #3 <br>\n",
    "<p>Print each persons name and twitter handle, using groups, should look like:</p>\n",
    "<p>==============<br>\n",
    "   Full Name / Twitter<br>\n",
    "   ==============</p>\n",
    "Derek Hawkins / @derekhawkins\n",
    "\n",
    " Erik Sven-Osterberg / @sverik\n",
    "\n",
    " Ryan Butz / @ryanbutz\n",
    "\n",
    " Example Exampleson / @example\n",
    "\n",
    " Ripal Pael / @ripalp\n",
    "\n",
    " Darth Vader / @darthvader"
   ]
  },
  {
   "cell_type": "code",
   "execution_count": 106,
   "metadata": {
    "scrolled": true
   },
   "outputs": [
    {
     "name": "stdout",
     "output_type": "stream",
     "text": [
      "=================\n",
      "Full Name/Twitter\n",
      "=================\n",
      "Derek Hawkins / @derekhawkins\n",
      "Sven Osterberg / @sverik\n",
      "Ryan Butz / @ryanbutz\n",
      "Example Exampleson / @example\n",
      "Ripal Pael / @ripalp\n",
      "Darth Vader / @darthvader\n"
     ]
    }
   ],
   "source": [
    "import re\n",
    "with open('./names.txt') as f:\n",
    "    data = f.readlines()\n",
    "    \n",
    "\n",
    "\n",
    "print('=================\\nFull Name/Twitter\\n=================')\n",
    "for i in range(len(data)):\n",
    "    firstname = re.compile('(\\s)([A-Z][a-z]+\\w)').search(data[i])\n",
    "    lastname = re.compile('([A-Z][a-z]+)()').search(data[i])\n",
    "    twitter = re.compile('(\\s)(@[a-z]+)').search(data[i])\n",
    "    if twitter:\n",
    "        print(firstname.group(2), lastname.group(1), '/', twitter.group(2))\n",
    "\n"
   ]
  },
  {
   "cell_type": "markdown",
   "metadata": {},
   "source": [
    "### Regex project\n",
    "\n",
    "Use python to read the file regex_test.txt and print the last name on each line using regular expressions and groups (return None for names with no first and last name, or names that aren't properly capitalized)\n",
    "##### Hint: use with open() and readlines()"
   ]
  },
  {
   "cell_type": "code",
   "execution_count": 208,
   "metadata": {},
   "outputs": [
    {
     "name": "stdout",
     "output_type": "stream",
     "text": [
      "Abraham Lincoln\n",
      "Andrew P Garfield\n",
      "Connor Milliken\n",
      "Jordan Alexander Williams\n",
      "None\n",
      "None\n"
     ]
    }
   ],
   "source": [
    "# \"\"\"\n",
    "# Expected Output\n",
    "# Abraham Lincoln\n",
    "# Andrew P Garfield\n",
    "# Connor Milliken\n",
    "# Jordan Alexander Williams\n",
    "# None\n",
    "# None\n",
    "# \"\"\"\n",
    "\n",
    "with open('./regex_text.txt') as f:\n",
    "    names = f.readlines()\n",
    "# print(names)\n",
    "\n",
    "proper_name = re.compile('([A-Z][a-z]+) ([A-Z][a-z]*)')\n",
    "for name in names:\n",
    "    if proper_name.match(name):\n",
    "        print(name, end='')\n",
    "    else:\n",
    "        print(None)\n",
    "\n",
    "    "
   ]
  },
  {
   "cell_type": "code",
   "execution_count": null,
   "metadata": {},
   "outputs": [],
   "source": []
  },
  {
   "cell_type": "code",
   "execution_count": null,
   "metadata": {},
   "outputs": [],
   "source": []
  }
 ],
 "metadata": {
  "kernelspec": {
   "display_name": "Python 3 (ipykernel)",
   "language": "python",
   "name": "python3"
  },
  "language_info": {
   "codemirror_mode": {
    "name": "ipython",
    "version": 3
   },
   "file_extension": ".py",
   "mimetype": "text/x-python",
   "name": "python",
   "nbconvert_exporter": "python",
   "pygments_lexer": "ipython3",
   "version": "3.9.13"
  }
 },
 "nbformat": 4,
 "nbformat_minor": 2
}
